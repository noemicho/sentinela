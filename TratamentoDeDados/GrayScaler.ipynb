{
  "nbformat": 4,
  "nbformat_minor": 0,
  "metadata": {
    "colab": {
      "provenance": [],
      "include_colab_link": true
    },
    "kernelspec": {
      "name": "python3",
      "display_name": "Python 3"
    },
    "language_info": {
      "name": "python"
    }
  },
  "cells": [
    {
      "cell_type": "markdown",
      "metadata": {
        "id": "view-in-github",
        "colab_type": "text"
      },
      "source": [
        "<a href=\"https://colab.research.google.com/github/noemicho/sentinela/blob/main/GrayScaler.ipynb\" target=\"_parent\"><img src=\"https://colab.research.google.com/assets/colab-badge.svg\" alt=\"Open In Colab\"/></a>"
      ]
    },
    {
      "cell_type": "code",
      "execution_count": 10,
      "metadata": {
        "id": "u2ACilMYlcQ6"
      },
      "outputs": [],
      "source": [
        "#import de bibliotecas\n",
        "import os\n",
        "from PIL import Image"
      ]
    },
    {
      "cell_type": "code",
      "source": [
        "# Diretório de entrada e saída\n",
        "input_dir = \"/content/drive/MyDrive/SentinelaTeste\"\n",
        "output_dir = \"/content/drive/MyDrive/SentinelaTesteGray\"\n",
        "\n",
        "# Criar o diretório de saída se não existir\n",
        "os.makedirs(output_dir, exist_ok=True)\n"
      ],
      "metadata": {
        "id": "4siUletalmL1"
      },
      "execution_count": 11,
      "outputs": []
    },
    {
      "cell_type": "code",
      "source": [
        "for gesture_folder in os.listdir(input_dir):\n",
        "    input_gesture_path = os.path.join(input_dir, gesture_folder)\n",
        "    output_gesture_path = os.path.join(output_dir, gesture_folder)\n",
        "    os.makedirs(output_gesture_path, exist_ok=True)\n",
        "\n",
        "    #Cria uma lista somente com as imagens da pasta atual\n",
        "    images = [img for img in os.listdir(input_gesture_path) if img.lower().endswith(('.png', '.jpg', '.jpeg'))]\n",
        "\n",
        "    #Cada imagem eh transmormada em escala cinza e salva no destino\n",
        "    for imgName in images:\n",
        "        input_img_path = os.path.join(input_gesture_path, imgName)\n",
        "        output_img_path = os.path.join(output_gesture_path, imgName)\n",
        "\n",
        "        img = Image.open(input_img_path)\n",
        "        grayImg = img.convert('L')\n",
        "        grayImg.save(output_img_path)\n",
        "\n",
        "print(\"Fim do processamento\")"
      ],
      "metadata": {
        "colab": {
          "base_uri": "https://localhost:8080/"
        },
        "id": "KKAlje7ql38L",
        "outputId": "36cef4b3-316a-4a8c-b7e5-ffe6cf2b6e75"
      },
      "execution_count": 12,
      "outputs": [
        {
          "output_type": "stream",
          "name": "stdout",
          "text": [
            "Fim do processamento\n"
          ]
        }
      ]
    },
    {
      "cell_type": "code",
      "source": [
        "from google.colab import drive\n",
        "drive.mount('/content/drive')"
      ],
      "metadata": {
        "colab": {
          "base_uri": "https://localhost:8080/"
        },
        "id": "OS_BZl8JTnPA",
        "outputId": "f02d26c8-cf0f-4498-8b86-960703c58932"
      },
      "execution_count": 9,
      "outputs": [
        {
          "output_type": "stream",
          "name": "stdout",
          "text": [
            "Mounted at /content/drive\n"
          ]
        }
      ]
    }
  ]
}