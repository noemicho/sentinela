{
  "cells": [
    {
      "cell_type": "code",
      "execution_count": null,
      "metadata": {
        "id": "0r7fKoDKp0k0"
      },
      "outputs": [],
      "source": [
        "import os\n",
        "import tensorflow as tf\n",
        "from tensorflow.keras.preprocessing.image import ImageDataGenerator\n",
        "from tensorflow.keras.preprocessing.image import img_to_array, array_to_img, load_img\n",
        "import numpy as np"
      ]
    },
    {
      "cell_type": "code",
      "execution_count": null,
      "metadata": {
        "id": "ZtavhvLCpyi8"
      },
      "outputs": [],
      "source": [
        "# Diretório de entrada e saída\n",
        "input_dir = \"/content/drive/MyDrive/Sentinela\"\n",
        "output_dir = \"/content/drive/MyDrive/SentinelaOriginais\"\n",
        "os.makedirs(output_dir, exist_ok=True)\n",
        "\n",
        "for gesture_folder in os.listdir(input_dir):\n",
        "    gesture_path = os.path.join(input_dir, gesture_folder)\n",
        "    output_gesture_path = os.path.join(output_dir, gesture_folder)\n",
        "    os.makedirs(output_gesture_path, exist_ok=True)\n",
        "\n",
        "    # Renomear imagens no padrão\n",
        "    original_images = [img for img in os.listdir(gesture_path) if img.lower().endswith(('.png', '.jpg', '.jpeg'))]\n",
        "    for i, image_name in enumerate(original_images):\n",
        "        image_path = os.path.join(gesture_path, image_name)\n",
        "        new_name = f\"{gesture_folder}_{i + 1:02d}\"  # Novo nome: \"paz_01\"\n",
        "        new_image_path = os.path.join(output_gesture_path, new_name + \".jpg\")\n",
        "\n",
        "        # Copiar a imagem original para a pasta de saída com o novo nome\n",
        "        image = load_img(image_path)\n",
        "        image.save(new_image_path)"
      ]
    }
  ],
  "metadata": {
    "colab": {
      "provenance": []
    },
    "kernelspec": {
      "display_name": "Python 3",
      "name": "python3"
    },
    "language_info": {
      "name": "python"
    }
  },
  "nbformat": 4,
  "nbformat_minor": 0
}
