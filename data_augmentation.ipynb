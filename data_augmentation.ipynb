{
  "nbformat": 4,
  "nbformat_minor": 0,
  "metadata": {
    "colab": {
      "provenance": [],
      "mount_file_id": "16C_Oqghy7S21WDpab-ggroqekD6dFQ46",
      "authorship_tag": "ABX9TyOIylmy9Ka43FP59o+Q5tP4",
      "include_colab_link": true
    },
    "kernelspec": {
      "name": "python3",
      "display_name": "Python 3"
    },
    "language_info": {
      "name": "python"
    }
  },
  "cells": [
    {
      "cell_type": "markdown",
      "metadata": {
        "id": "view-in-github",
        "colab_type": "text"
      },
      "source": [
        "<a href=\"https://colab.research.google.com/github/noemicho/sentinela/blob/main/data_augmentation.ipynb\" target=\"_parent\"><img src=\"https://colab.research.google.com/assets/colab-badge.svg\" alt=\"Open In Colab\"/></a>"
      ]
    },
    {
      "cell_type": "code",
      "execution_count": null,
      "metadata": {
        "id": "8t8fUxTQ_yxt"
      },
      "outputs": [],
      "source": [
        "import os\n",
        "import tensorflow as tf\n",
        "from tensorflow.keras.preprocessing.image import ImageDataGenerator\n",
        "from tensorflow.keras.preprocessing.image import img_to_array, array_to_img, load_img\n",
        "import numpy as np"
      ]
    },
    {
      "cell_type": "code",
      "source": [
        "# Função para criar o ImageDataGenerator para transformações específicas\n",
        "def get_datagen(augmentation_type):\n",
        "    if augmentation_type == \"zoom\":\n",
        "        return ImageDataGenerator(zoom_range=0.4)\n",
        "    elif augmentation_type == \"rot\":\n",
        "        return ImageDataGenerator(rotation_range=45)\n",
        "    elif augmentation_type == \"saturation\":\n",
        "        return ImageDataGenerator(channel_shift_range=80.0)\n",
        "    else:\n",
        "        raise ValueError(\"Tipo de augmentação desconhecido!\")\n",
        "\n",
        "# Função de desfoque gaussiano\n",
        "def apply_gaussian_blur(image, kernel_size=5):\n",
        "    image = tf.image.resize(image, (128, 128))\n",
        "    blurred_image = tf.nn.conv2d(\n",
        "        input=tf.expand_dims(image, axis=0),\n",
        "        filters=tf.random.normal([kernel_size, kernel_size, 3, 3]),\n",
        "        strides=[1, 1, 1, 1],\n",
        "        padding='SAME'\n",
        "    )\n",
        "    return tf.squeeze(blurred_image)\n",
        "\n",
        "\n",
        "# Diretório de entrada e saída\n",
        "input_dir = \"/content/drive/MyDrive/Sentinela\"\n",
        "output_dir = \"/content/drive/MyDrive/SentinelaTeste\"\n",
        "os.makedirs(output_dir, exist_ok=True)"
      ],
      "metadata": {
        "id": "w0aQghs4Nw1u"
      },
      "execution_count": null,
      "outputs": []
    },
    {
      "cell_type": "code",
      "source": [
        "for gesture_folder in os.listdir(input_dir):\n",
        "    gesture_path = os.path.join(input_dir, gesture_folder)\n",
        "    output_gesture_path = os.path.join(output_dir, gesture_folder)\n",
        "    os.makedirs(output_gesture_path, exist_ok=True)\n",
        "\n",
        "    # Renomear imagens no padrão\n",
        "    original_images = [img for img in os.listdir(gesture_path) if img.lower().endswith(('.png', '.jpg', '.jpeg'))]\n",
        "    for i, image_name in enumerate(original_images):\n",
        "        image_path = os.path.join(gesture_path, image_name)\n",
        "        new_name = f\"{gesture_folder}_{i + 1:02d}\"  # Novo nome: \"paz_01\"\n",
        "        new_image_path = os.path.join(output_gesture_path, new_name + \".jpg\")\n",
        "\n",
        "        # Copiar a imagem original para a pasta de saída com o novo nome\n",
        "        image = load_img(image_path)\n",
        "        image.save(new_image_path)\n",
        "\n",
        "        # Aplicar transformações específicas\n",
        "        for augment_type in [\"zoom\", \"rot\", \"saturation\"]:\n",
        "            datagen = get_datagen(augment_type)\n",
        "            image_array = img_to_array(image)\n",
        "            image_array = np.expand_dims(image_array, axis=0)\n",
        "\n",
        "            # Gerar e salvar a nova imagem\n",
        "            augmented_images = datagen.flow(image_array, batch_size=1)\n",
        "            augmented_image = next(augmented_images)[0]\n",
        "            augmented_pil = array_to_img(augmented_image)\n",
        "            augmented_pil.save(os.path.join(output_gesture_path, f\"{new_name}_{augment_type}.jpg\"))\n",
        "\n",
        "        # Aplicar desfoque manualmente\n",
        "        blurred_image = apply_gaussian_blur(img_to_array(image))\n",
        "        blurred_image_pil = array_to_img(blurred_image)\n",
        "        blurred_image_pil.save(os.path.join(output_gesture_path, f\"{new_name}_blur.jpg\"))\n",
        "\n",
        "\n",
        "print(\"Processamento concluído\")\n"
      ],
      "metadata": {
        "id": "4NNXD48AN2-E",
        "colab": {
          "base_uri": "https://localhost:8080/"
        },
        "outputId": "b293ceb1-6729-40df-e36c-9097bf5f30ba"
      },
      "execution_count": null,
      "outputs": [
        {
          "output_type": "stream",
          "name": "stdout",
          "text": [
            "Processamento concluído\n"
          ]
        }
      ]
    }
  ]
}