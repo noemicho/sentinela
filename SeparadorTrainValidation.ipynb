{
  "nbformat": 4,
  "nbformat_minor": 0,
  "metadata": {
    "colab": {
      "provenance": [],
      "include_colab_link": true
    },
    "kernelspec": {
      "name": "python3",
      "display_name": "Python 3"
    },
    "language_info": {
      "name": "python"
    }
  },
  "cells": [
    {
      "cell_type": "markdown",
      "metadata": {
        "id": "view-in-github",
        "colab_type": "text"
      },
      "source": [
        "<a href=\"https://colab.research.google.com/github/noemicho/sentinela/blob/main/SeparadorTrainValidation.ipynb\" target=\"_parent\"><img src=\"https://colab.research.google.com/assets/colab-badge.svg\" alt=\"Open In Colab\"/></a>"
      ]
    },
    {
      "cell_type": "code",
      "execution_count": 4,
      "metadata": {
        "colab": {
          "base_uri": "https://localhost:8080/"
        },
        "id": "B3TlcKlhJ3Sb",
        "outputId": "9577b5e9-3179-4c9f-b86f-9429f81e5a67"
      },
      "outputs": [
        {
          "output_type": "stream",
          "name": "stdout",
          "text": [
            "Conjuntos organizados\n"
          ]
        }
      ],
      "source": [
        "import os\n",
        "\n",
        "dataset_path = \"/content/drive/MyDrive/Datasets\" #Caminho dos sets de treinamento\n",
        "images_path = \"/content/drive/MyDrive/SentinelaOriginais\"\n",
        "\n",
        "#Divide os dados para validação cruzada ~ 20%-80% --> distribuição validação e Treino\n",
        "for i in range(5):\n",
        "  #Criação das pastas para treinamento\n",
        "  current_path = dataset_path + \"/set\" + str(i)\n",
        "  os.makedirs(current_path, exist_ok=True)\n",
        "  images_set_path = current_path + \"/images\"\n",
        "  os.makedirs(images_set_path, exist_ok=True)\n",
        "  labels_set_path = current_path + \"/labels\"\n",
        "  os.makedirs(labels_set_path, exist_ok=True)\n",
        "  os.makedirs(images_set_path + \"/train\", exist_ok=True)\n",
        "  os.makedirs(images_set_path + \"/val\", exist_ok=True)\n",
        "  os.makedirs(labels_set_path + \"/train\", exist_ok=True)\n",
        "  os.makedirs(labels_set_path + \"/val\", exist_ok=True)\n",
        "\n",
        "  #Criação dos arquivos que especificam as imagens de treinamento e validação\n",
        "  train_txt = open(current_path + \"/train.txt\", \"w\")\n",
        "  val_txt = open(current_path + \"/val.txt\", \"w\")\n",
        "\n",
        "  for gesture_folder in os.listdir(images_path):\n",
        "    #Cria uma lista somente com as imagens da pasta atual\n",
        "    gesture_path = os.path.join(images_path, gesture_folder)\n",
        "    images = [img for img in os.listdir(gesture_path) if img.lower().endswith(('.png', '.jpg', '.jpeg'))]\n",
        "\n",
        "    #verifica qtd de imagens e margem destinada a validação\n",
        "    size = len(images)\n",
        "    margin = int(size*0.2)\n",
        "    train = []\n",
        "    val = []\n",
        "\n",
        "    #Para cada imagem verifica e designa a validação ou treinamento\n",
        "    for j, image_name in enumerate(images):\n",
        "      image_path = os.path.join(images_set_path, image_name)\n",
        "\n",
        "      #verifica se está no intervalo das imagens para validação\n",
        "      if(j >= i*margin and j < i*margin + margin):\n",
        "        val.append(image_path + \"\\n\")\n",
        "      else:\n",
        "        train.append(image_path + \"\\n\")\n",
        "\n",
        "    train_txt.writelines(train)\n",
        "    val_txt.writelines(val)\n",
        "\n",
        "  train_txt.close()\n",
        "  val_txt.close()\n",
        "\n",
        "print(\"Conjuntos organizados\")"
      ]
    },
    {
      "cell_type": "code",
      "source": [
        "from google.colab import drive\n",
        "drive.mount('/content/drive')"
      ],
      "metadata": {
        "colab": {
          "base_uri": "https://localhost:8080/"
        },
        "id": "rqUY1HNBNNb-",
        "outputId": "3190c35d-c19a-4919-b76a-7cd0665e02af"
      },
      "execution_count": 1,
      "outputs": [
        {
          "output_type": "stream",
          "name": "stdout",
          "text": [
            "Mounted at /content/drive\n"
          ]
        }
      ]
    }
  ]
}